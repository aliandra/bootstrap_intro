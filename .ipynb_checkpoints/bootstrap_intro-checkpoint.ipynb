{
 "cells": [
  {
   "cell_type": "markdown",
   "metadata": {},
   "source": [
    "# Introduction to Bootstrap\n",
    "\n",
    "1. [What is Bootstrap?](#What-is-Bootstrap?)\n",
    "2. [Benefits of Bootstrap](#Benefits-of-Bootstrap)\n",
    "3. [Quick HTML Refresher](#Quick-HTML-Refresher)\n",
    "4. [Getting started with Bootstrap](#Getting-started-with-Bootstrap)\n",
    "5. [Containers and the Grid System](#Containers-and-the-Grid-System)\n",
    "6. [Components & Themes](#Components-&-Themes)"
   ]
  },
  {
   "cell_type": "markdown",
   "metadata": {},
   "source": [
    "### What is Bootstrap?"
   ]
  },
  {
   "cell_type": "markdown",
   "metadata": {},
   "source": [
    "Bootstrap is a free and open-source framework for creating websites and web applications. It's the most popular HTML, CSS, and JS framework for developing responsive, mobile first projects on the web."
   ]
  },
  {
   "cell_type": "markdown",
   "metadata": {},
   "source": [
    "### Benefits of Bootstrap"
   ]
  },
  {
   "cell_type": "markdown",
   "metadata": {},
   "source": [
    "- **Create responsive websites:** One framework for every device. Websites built with Bootstrap will automatically scale between devices - Mobile First!\n",
    "- **Consistantcy across the site:**Don't need to waste time re-designing every element to look the same and work correctly\n",
    "- **Built in Components:** Buttons, navbars, dropdown menus, alert boxes, etc"
   ]
  },
  {
   "cell_type": "markdown",
   "metadata": {},
   "source": [
    "### Quick HTML Refresher"
   ]
  },
  {
   "cell_type": "markdown",
   "metadata": {},
   "source": [
    "HTML (Hypertext Markup Language) makes use of various tags to format content. Tags are enclosed in angled braces and (with a few exceptions) have a corresponding closing tag. A typical HTML document is structured as follows:\n",
    "```html\n",
    "<!DOCTYPE html>\n",
    "<html>\n",
    "\n",
    "    <head>\n",
    "        <title>This is a title</title>\n",
    "    </head>\n",
    "\n",
    "    <body>\n",
    "        <h1>This is a heading</h1>\n",
    "        <p>This is a paragraph</p>\n",
    "    </body>\n",
    "</html>\n",
    "```\n",
    "Tags can have one or more attributes which provide the browser with additional information about that specific tag. Attributes have a name and value.\n",
    "```html\n",
    "<a href=\"http://www.google.com\" title=\"This link takes you to Google\">google</a>\n",
    "\n",
    "<div class=\"col-sm-10 col-lg-8\" id=\"special\">This div has two classes</div>\n",
    "\n",
    "```\n",
    "Comments in HTML are written as so:\n",
    "```html\n",
    "<!-- This is a comment :) -->\n",
    "```"
   ]
  },
  {
   "cell_type": "markdown",
   "metadata": {},
   "source": [
    "### Getting started with Bootstrap"
   ]
  },
  {
   "cell_type": "markdown",
   "metadata": {
    "collapsed": true
   },
   "source": [
    "Bootstrap uses its own CSS and JavaScript files which you will need to link to in your html document. For this tutorial we will be going over Bootstrap 4 which is in its alpha release. Here is a starter template:\n",
    "```html\n",
    "<!DOCTYPE html>\n",
    "<html lang=\"en\">\n",
    "\n",
    "  <head>\n",
    "    <!-- Required meta tags -->\n",
    "    <meta charset=\"utf-8\">\n",
    "    <meta name=\"viewport\" content=\"width=device-width, initial-scale=1, shrink-to-fit=no\">\n",
    "    <title>Title Goes Here</title>\n",
    "    <!-- Bootstrap CSS -->\n",
    "    <link rel=\"stylesheet\" href=\"https://maxcdn.bootstrapcdn.com/bootstrap/4.0.0-alpha.6/css/bootstrap.min.css\" integrity=\"sha384-rwoIResjU2yc3z8GV/NPeZWAv56rSmLldC3R/AZzGRnGxQQKnKkoFVhFQhNUwEyJ\" crossorigin=\"anonymous\">\n",
    "  </head>\n",
    "  \n",
    "  <body>\n",
    "  \n",
    "    <!-- YOUR CONTENT HERE -->\n",
    "    \n",
    "    <!-- jQuery first, then Tether, then Bootstrap JS. -->\n",
    "    <script src=\"https://code.jquery.com/jquery-3.1.1.slim.min.js\" integrity=\"sha384-A7FZj7v+d/sdmMqp/nOQwliLvUsJfDHW+k9Omg/a/EheAdgtzNs3hpfag6Ed950n\" crossorigin=\"anonymous\"></script>\n",
    "    <script src=\"https://cdnjs.cloudflare.com/ajax/libs/tether/1.4.0/js/tether.min.js\" integrity=\"sha384-DztdAPBWPRXSA/3eYEEUWrWCy7G5KFbe8fFjk5JAIxUYHKkDx6Qin1DkWx51bBrb\" crossorigin=\"anonymous\"></script>\n",
    "    <script src=\"https://maxcdn.bootstrapcdn.com/bootstrap/4.0.0-alpha.6/js/bootstrap.min.js\" integrity=\"sha384-vBWWzlZJ8ea9aCX4pEW3rVHjgjt7zpkNpZk+02D9phzyeVkE+jo0ieGizqPLForn\" crossorigin=\"anonymous\"></script>\n",
    "  </body>\n",
    "</html>\n",
    "```\n"
   ]
  },
  {
   "cell_type": "markdown",
   "metadata": {},
   "source": [
    "### Containers and the Grid System\n",
    "![container](https://encrypted-tbn0.gstatic.com/images?q=tbn:ANd9GcQgdUV8q05apxeQcbpurvLGSFnEptIln35qZKRxBfS2ImQhfKKlRQ)"
   ]
  },
  {
   "cell_type": "markdown",
   "metadata": {},
   "source": [
    "Containers are the most basic layout elements in Bootstrap. They are used to wrap elements and contain the grid system.\n",
    "\n",
    "Responsive Design: There are two classes of containers- fixed and fluid.  \n",
    "![fixed_fluid](http://www.codescratcher.com/wp-content/uploads/2015/03/Fixed-and-Fluid-Layout-in-Bootstrap-Output.gif)\n",
    "\n",
    "The Gird System:\n",
    "- Used to create page layouts with a series of rows and columns\n",
    "- Allows up to 12 columns across the page\n",
    "- Is responsive. The columns will re-arrange automatically depending on screen size\n",
    "\n",
    "```html\n",
    "<div class=\"container\">\n",
    "  <div class=\"row\">\n",
    "    <div class=\"col\">.col-4</div>\n",
    "    <div class=\"col\">.col-4</div>\n",
    "    <div class=\"col\">.col-4</div>\n",
    "  </div>\n",
    "  <div class=\"row\">\n",
    "    <div class=\"col\">.col-12</div>\n",
    "  </div>\n",
    "  <div class=\"row\">\n",
    "    <div class=\"col-6\">.col-6</div>\n",
    "    <div class=\"col-6\">.col-6</div>\n",
    "  </div>\n",
    "  <div class=\"row\">\n",
    "    <div class=\"col-8\">.col-8</div>\n",
    "    <div class=\"col\">.col-2</div>\n",
    "    <div class=\"col\">.col-2</div>\n",
    "  </div>\n",
    "</div>\n",
    "```\n",
    "\n",
    "![grid](https://tutorialzine.com/media/2017/01/1-basic-grid.png)\n",
    "\n",
    "The numbers at the end of each class name represent the number of units that the column spans. So **`col-1`** spans one column and **`col-8`** spans eight. \n",
    "\n",
    "We can also specify device size. There are five different device sizes: **xs**(default), **`sm`**, **`md`**, **`lg`**, **`xl`**. When size is indicated, it applied to that device size and large. For example, the **`sm`** class means that the colspan applies to small devices and everything above. \n",
    "\n"
   ]
  },
  {
   "cell_type": "markdown",
   "metadata": {},
   "source": [
    "Things to Remember:\n",
    "- container --> row --> column --> content\n",
    "- Only columns can be immediate children of rows\n",
    "- If more than 12 columns are placed in a row, the columns will wrap to a new line as a unit\n",
    "- Don't need to use up all 12 columns\n",
    "- Multiple classes: ```<div class=col-sm-10 col-md-6\">```\n",
    "- While you can technically nest containers, it is considered 'bad practise'. "
   ]
  },
  {
   "cell_type": "markdown",
   "metadata": {},
   "source": [
    "### Components & Themes"
   ]
  },
  {
   "cell_type": "markdown",
   "metadata": {},
   "source": [
    "Bootstrap has over a dosen built-in components that are easy to copy/paste directly into your website. Check out the [documentation](https://v4-alpha.getbootstrap.com/components/alerts/). To get free custom color themes, check out [bootswatch](https://bootswatch.com/4-alpha/) and download the **bootstrap.min.css** file. You can also search for additional free or paid themes for download on the internet with a quick google seach."
   ]
  }
 ],
 "metadata": {
  "anaconda-cloud": {},
  "kernelspec": {
   "display_name": "Python 3",
   "language": "python",
   "name": "python3"
  },
  "language_info": {
   "codemirror_mode": {
    "name": "ipython",
    "version": 3
   },
   "file_extension": ".py",
   "mimetype": "text/x-python",
   "name": "python",
   "nbconvert_exporter": "python",
   "pygments_lexer": "ipython3",
   "version": "3.6.1"
  }
 },
 "nbformat": 4,
 "nbformat_minor": 1
}
